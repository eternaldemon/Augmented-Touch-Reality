{
  "nbformat": 4,
  "nbformat_minor": 0,
  "metadata": {
    "colab": {
      "name": "CapstoneTouchDetection",
      "provenance": [],
      "collapsed_sections": [],
      "authorship_tag": "ABX9TyOKpwslLLaTcd29FIYaOayI",
      "include_colab_link": true
    },
    "kernelspec": {
      "name": "python3",
      "display_name": "Python 3"
    }
  },
  "cells": [
    {
      "cell_type": "markdown",
      "metadata": {
        "id": "view-in-github",
        "colab_type": "text"
      },
      "source": [
        "<a href=\"https://colab.research.google.com/github/eternaldemon/Augmented-Touch-Reality/blob/master/Touch%20Detection%20using%20Image%20Classification%20.ipynb\" target=\"_parent\"><img src=\"https://colab.research.google.com/assets/colab-badge.svg\" alt=\"Open In Colab\"/></a>"
      ]
    },
    {
      "cell_type": "code",
      "metadata": {
        "id": "gm_RoVfKq1Up",
        "colab_type": "code",
        "colab": {
          "base_uri": "https://localhost:8080/",
          "height": 34
        },
        "outputId": "92af8d41-26d9-4006-d35c-5943d245cc16"
      },
      "source": [
        "import tensorflow as tf\n",
        "tf.__version__"
      ],
      "execution_count": 1,
      "outputs": [
        {
          "output_type": "execute_result",
          "data": {
            "text/plain": [
              "'2.2.0'"
            ]
          },
          "metadata": {
            "tags": []
          },
          "execution_count": 1
        }
      ]
    },
    {
      "cell_type": "code",
      "metadata": {
        "id": "ki_GKWGiq5UA",
        "colab_type": "code",
        "colab": {}
      },
      "source": [
        "from tensorflow.keras.layers import Dense,Flatten,Conv2D,Dropout,MaxPooling2D,BatchNormalization\n",
        "from tensorflow.keras.models import Sequential"
      ],
      "execution_count": 221,
      "outputs": []
    },
    {
      "cell_type": "code",
      "metadata": {
        "id": "rWEmakOZrTkL",
        "colab_type": "code",
        "colab": {}
      },
      "source": [
        "from tensorflow.keras.preprocessing.image import ImageDataGenerator\n",
        "import os\n",
        "import numpy as np\n",
        "import matplotlib.pyplot as plt\n"
      ],
      "execution_count": 5,
      "outputs": []
    },
    {
      "cell_type": "code",
      "metadata": {
        "id": "Tnojokf8vzNm",
        "colab_type": "code",
        "colab": {
          "base_uri": "https://localhost:8080/",
          "height": 34
        },
        "outputId": "d53916c6-d517-48b6-ded8-4654599f4e53"
      },
      "source": [
        "from google.colab import drive\n",
        "drive.mount('/content/gdrive')"
      ],
      "execution_count": 165,
      "outputs": [
        {
          "output_type": "stream",
          "text": [
            "Drive already mounted at /content/gdrive; to attempt to forcibly remount, call drive.mount(\"/content/gdrive\", force_remount=True).\n"
          ],
          "name": "stdout"
        }
      ]
    },
    {
      "cell_type": "code",
      "metadata": {
        "id": "yzXy-ssirgww",
        "colab_type": "code",
        "colab": {}
      },
      "source": [
        "url='/content/gdrive/My Drive/Capstone Dataset/Dataset1/'\n",
        "train_dir=os.path.join(url,'train')\n",
        "test_dir=os.path.join(url,'test')\n",
        "#path_of_rar=tf.keras.utils.get_file('demo.rar',origin=url,extract=True)"
      ],
      "execution_count": 166,
      "outputs": []
    },
    {
      "cell_type": "code",
      "metadata": {
        "id": "0RX9h8VkwZct",
        "colab_type": "code",
        "colab": {}
      },
      "source": [
        "train_touch_dir=os.path.join(train_dir,'touch')\n",
        "train_nontouch_dir=os.path.join(train_dir,'nontouch')"
      ],
      "execution_count": 167,
      "outputs": []
    },
    {
      "cell_type": "code",
      "metadata": {
        "id": "nbya1evkwkEF",
        "colab_type": "code",
        "colab": {}
      },
      "source": [
        "test_touch_dir=os.path.join(test_dir,'touch')\n",
        "test_nontouch_dir=os.path.join(test_dir,'nontouch')"
      ],
      "execution_count": 171,
      "outputs": []
    },
    {
      "cell_type": "code",
      "metadata": {
        "id": "GpyylqIAr3lR",
        "colab_type": "code",
        "colab": {}
      },
      "source": [
        "#PATH = os.path.join(os.path.dirname(path_of_rar), 'TouchDetection')"
      ],
      "execution_count": 24,
      "outputs": []
    },
    {
      "cell_type": "code",
      "metadata": {
        "id": "DNU0zQabsUbE",
        "colab_type": "code",
        "colab": {}
      },
      "source": [
        "#train_dir = os.path.join(PATH, 'train')\n",
        "#validation_dir = os.path.join(PATH, 'validation')"
      ],
      "execution_count": 21,
      "outputs": []
    },
    {
      "cell_type": "code",
      "metadata": {
        "id": "ycZPZe1mtFN2",
        "colab_type": "code",
        "colab": {}
      },
      "source": [
        "#train_touch_dir = os.path.join(train_dir, 'touch')  \n",
        "#train_nontouch_dir = os.path.join(train_dir, 'nontouch')  \n",
        "#validation_touch_dir = os.path.join(validation_dir, 'touch')  \n",
        "#validation_nontouch_dir = os.path.join(validation_dir, 'nontouch')"
      ],
      "execution_count": 22,
      "outputs": []
    },
    {
      "cell_type": "code",
      "metadata": {
        "id": "hsHzk82otS1j",
        "colab_type": "code",
        "colab": {}
      },
      "source": [
        "num_touch_tr=len(os.listdir(train_touch_dir))\n",
        "num_nontouch_tr=len(os.listdir(train_nontouch_dir))\n",
        "\n",
        "num_touch_test=len(os.listdir(test_touch_dir))\n",
        "num_nontouch_test=len(os.listdir(test_nontouch_dir))\n",
        "\n",
        "total_train = num_touch_tr+num_nontouch_tr\n",
        "total_test = num_nontouch_test+num_touch_test"
      ],
      "execution_count": 172,
      "outputs": []
    },
    {
      "cell_type": "code",
      "metadata": {
        "id": "uXGm4xk1tkzK",
        "colab_type": "code",
        "colab": {}
      },
      "source": [
        "batch_size = 10\n",
        "epoch = 20\n",
        "IMG_HEIGHT = 240\n",
        "IMG_WIDTH = 320"
      ],
      "execution_count": 173,
      "outputs": []
    },
    {
      "cell_type": "code",
      "metadata": {
        "id": "YY5jbl4quMZG",
        "colab_type": "code",
        "colab": {}
      },
      "source": [
        "train_image_generator = ImageDataGenerator(rescale=1./255) # Generator for our training data\n",
        "validation_image_generator = ImageDataGenerator(rescale=1./255) # Generator for our validation data"
      ],
      "execution_count": 174,
      "outputs": []
    },
    {
      "cell_type": "code",
      "metadata": {
        "id": "13ycTB6buQuD",
        "colab_type": "code",
        "colab": {
          "base_uri": "https://localhost:8080/",
          "height": 34
        },
        "outputId": "2e8644f5-6dd4-4e04-bbe8-78bc699190a3"
      },
      "source": [
        "train_data_gen = train_image_generator.flow_from_directory(batch_size=batch_size,\n",
        "                                                           directory=train_dir,\n",
        "                                                           shuffle=True,\n",
        "                                                           target_size=(IMG_HEIGHT, IMG_WIDTH),\n",
        "                                                           class_mode='binary')"
      ],
      "execution_count": 175,
      "outputs": [
        {
          "output_type": "stream",
          "text": [
            "Found 150 images belonging to 2 classes.\n"
          ],
          "name": "stdout"
        }
      ]
    },
    {
      "cell_type": "code",
      "metadata": {
        "id": "pXPfFpHhxSM3",
        "colab_type": "code",
        "colab": {
          "base_uri": "https://localhost:8080/",
          "height": 34
        },
        "outputId": "3f0738a5-0096-4ef9-ced1-d0f245c1d1c6"
      },
      "source": [
        "test_data_gen = validation_image_generator.flow_from_directory(batch_size=batch_size,\n",
        "                                                              directory=test_dir,\n",
        "                                                              target_size=(IMG_HEIGHT, IMG_WIDTH),\n",
        "                                                              class_mode='binary')"
      ],
      "execution_count": 176,
      "outputs": [
        {
          "output_type": "stream",
          "text": [
            "Found 15 images belonging to 2 classes.\n"
          ],
          "name": "stdout"
        }
      ]
    },
    {
      "cell_type": "code",
      "metadata": {
        "id": "48wQW766xdYf",
        "colab_type": "code",
        "colab": {}
      },
      "source": [
        "sample_training_images, _ = next(train_data_gen)\n",
        "\n",
        "# This function will plot images in the form of a grid with 1 row and 5 columns where images are placed in each column.\n",
        "def plotImages(images_arr):\n",
        "    fig, axes = plt.subplots(1, 10, figsize=(20,20))\n",
        "    axes = axes.flatten()\n",
        "    for img, ax in zip( images_arr, axes):\n",
        "        ax.imshow(img)\n",
        "        ax.axis('off')\n",
        "    plt.tight_layout()\n",
        "    plt.show()"
      ],
      "execution_count": 177,
      "outputs": []
    },
    {
      "cell_type": "code",
      "metadata": {
        "id": "AhPQa2KAxkwv",
        "colab_type": "code",
        "colab": {
          "base_uri": "https://localhost:8080/",
          "height": 115
        },
        "outputId": "8c87d5c4-3b8d-4ad9-d2a9-06001913a2e5"
      },
      "source": [
        "plotImages(sample_training_images[:10])"
      ],
      "execution_count": 178,
      "outputs": [
        {
          "output_type": "display_data",
          "data": {
            "image/png": "[encoded data removed]",
            "text/plain": [
              "<Figure size 1440x1440 with 10 Axes>"
            ]
          },
          "metadata": {
            "tags": [],
            "needs_background": "light"
          }
        }
      ]
    },
    {
      "cell_type": "code",
      "metadata": {
        "id": "1iRYW2XI6hJu",
        "colab_type": "code",
        "colab": {
          "base_uri": "https://localhost:8080/",
          "height": 34
        },
        "outputId": "7c7af6a9-5461-4393-f583-3eec4643478f"
      },
      "source": [
        "train_data_gen"
      ],
      "execution_count": 179,
      "outputs": [
        {
          "output_type": "execute_result",
          "data": {
            "text/plain": [
              "<keras_preprocessing.image.directory_iterator.DirectoryIterator at 0x7f52f7178c50>"
            ]
          },
          "metadata": {
            "tags": []
          },
          "execution_count": 179
        }
      ]
    },
    {
      "cell_type": "code",
      "metadata": {
        "id": "xL66HH4Bxytj",
        "colab_type": "code",
        "colab": {}
      },
      "source": [
        "model = Sequential([\n",
        "    Conv2D(16, (3,3), padding='same', activation='relu', input_shape=(240,320,3)),\n",
        "    BatchNormalization(),\n",
        "    Conv2D(16, (3,3), padding='same', activation='relu'),\n",
        "    BatchNormalization(),\n",
        "    MaxPooling2D(),\n",
        "    Conv2D(32, (3,3), padding='same', activation='relu'),\n",
        "    BatchNormalization(),\n",
        "    Conv2D(16, (3,3), padding='same', activation='relu'),\n",
        "    BatchNormalization(),\n",
        "    MaxPooling2D(),\n",
        "    Dropout(0.1),\n",
        "    Flatten(),\n",
        "    Dense(512, activation='relu'),\n",
        "    Dense(1)\n",
        "])"
      ],
      "execution_count": 238,
      "outputs": []
    },
    {
      "cell_type": "code",
      "metadata": {
        "id": "fVrxPITBx4Qn",
        "colab_type": "code",
        "colab": {}
      },
      "source": [
        "opt = tf.keras.optimizers.Adam(0.0005)\n",
        "\n",
        "\n",
        "model.compile(optimizer=opt,\n",
        "              loss=tf.keras.losses.BinaryCrossentropy(from_logits=True),\n",
        "              metrics=['accuracy'])"
      ],
      "execution_count": 239,
      "outputs": []
    },
    {
      "cell_type": "code",
      "metadata": {
        "id": "N8p_FqEHx7gM",
        "colab_type": "code",
        "colab": {
          "base_uri": "https://localhost:8080/",
          "height": 629
        },
        "outputId": "d22c999b-346a-4832-9bd7-e6eb4449c17b"
      },
      "source": [
        "model.summary()"
      ],
      "execution_count": 240,
      "outputs": [
        {
          "output_type": "stream",
          "text": [
            "Model: \"sequential_13\"\n",
            "_________________________________________________________________\n",
            "Layer (type)                 Output Shape              Param #   \n",
            "=================================================================\n",
            "conv2d_46 (Conv2D)           (None, 240, 320, 16)      448       \n",
            "_________________________________________________________________\n",
            "batch_normalization_19 (Batc (None, 240, 320, 16)      64        \n",
            "_________________________________________________________________\n",
            "conv2d_47 (Conv2D)           (None, 240, 320, 16)      2320      \n",
            "_________________________________________________________________\n",
            "batch_normalization_20 (Batc (None, 240, 320, 16)      64        \n",
            "_________________________________________________________________\n",
            "max_pooling2d_38 (MaxPooling (None, 120, 160, 16)      0         \n",
            "_________________________________________________________________\n",
            "conv2d_48 (Conv2D)           (None, 120, 160, 32)      4640      \n",
            "_________________________________________________________________\n",
            "batch_normalization_21 (Batc (None, 120, 160, 32)      128       \n",
            "_________________________________________________________________\n",
            "conv2d_49 (Conv2D)           (None, 120, 160, 16)      4624      \n",
            "_________________________________________________________________\n",
            "batch_normalization_22 (Batc (None, 120, 160, 16)      64        \n",
            "_________________________________________________________________\n",
            "max_pooling2d_39 (MaxPooling (None, 60, 80, 16)        0         \n",
            "_________________________________________________________________\n",
            "dropout_1 (Dropout)          (None, 60, 80, 16)        0         \n",
            "_________________________________________________________________\n",
            "flatten_13 (Flatten)         (None, 76800)             0         \n",
            "_________________________________________________________________\n",
            "dense_26 (Dense)             (None, 512)               39322112  \n",
            "_________________________________________________________________\n",
            "dense_27 (Dense)             (None, 1)                 513       \n",
            "=================================================================\n",
            "Total params: 39,334,977\n",
            "Trainable params: 39,334,817\n",
            "Non-trainable params: 160\n",
            "_________________________________________________________________\n"
          ],
          "name": "stdout"
        }
      ]
    },
    {
      "cell_type": "code",
      "metadata": {
        "id": "6QqkwNUwytWW",
        "colab_type": "code",
        "colab": {
          "base_uri": "https://localhost:8080/",
          "height": 1000
        },
        "outputId": "fb376d30-0fb2-465a-e504-1c544159faca"
      },
      "source": [
        "h2 = model.fit(train_data_gen,epochs=50,verbose=1,validation_data=test_data_gen)"
      ],
      "execution_count": 241,
      "outputs": [
        {
          "output_type": "stream",
          "text": [
            "Epoch 1/50\n",
            "15/15 [==============================] - 28s 2s/step - loss: 10.3532 - accuracy: 0.7600 - val_loss: 0.7118 - val_accuracy: 0.6667\n",
            "Epoch 2/50\n",
            "15/15 [==============================] - 28s 2s/step - loss: 2.4114 - accuracy: 0.9000 - val_loss: 0.6794 - val_accuracy: 0.6667\n",
            "Epoch 3/50\n",
            "15/15 [==============================] - 28s 2s/step - loss: 1.6166 - accuracy: 0.9333 - val_loss: 0.9283 - val_accuracy: 0.0667\n",
            "Epoch 4/50\n",
            "15/15 [==============================] - 28s 2s/step - loss: 0.6628 - accuracy: 0.9467 - val_loss: 1.0016 - val_accuracy: 0.4000\n",
            "Epoch 5/50\n",
            "15/15 [==============================] - 31s 2s/step - loss: 0.2992 - accuracy: 0.9867 - val_loss: 0.9973 - val_accuracy: 0.6667\n",
            "Epoch 6/50\n",
            "15/15 [==============================] - 28s 2s/step - loss: 0.1685 - accuracy: 0.9867 - val_loss: 1.0145 - val_accuracy: 0.6667\n",
            "Epoch 7/50\n",
            "15/15 [==============================] - 28s 2s/step - loss: 0.0111 - accuracy: 0.9933 - val_loss: 1.2140 - val_accuracy: 0.6000\n",
            "Epoch 8/50\n",
            "15/15 [==============================] - 28s 2s/step - loss: 0.0854 - accuracy: 0.9933 - val_loss: 1.2632 - val_accuracy: 0.5333\n",
            "Epoch 9/50\n",
            "15/15 [==============================] - 28s 2s/step - loss: 2.1036e-06 - accuracy: 1.0000 - val_loss: 1.9841 - val_accuracy: 0.4000\n",
            "Epoch 10/50\n",
            "15/15 [==============================] - 28s 2s/step - loss: 5.5337e-05 - accuracy: 1.0000 - val_loss: 4.3194 - val_accuracy: 0.4667\n",
            "Epoch 11/50\n",
            "15/15 [==============================] - 28s 2s/step - loss: 8.9741e-05 - accuracy: 1.0000 - val_loss: 7.9203 - val_accuracy: 0.4000\n",
            "Epoch 12/50\n",
            "15/15 [==============================] - 28s 2s/step - loss: 0.0032 - accuracy: 1.0000 - val_loss: 11.0546 - val_accuracy: 0.3333\n",
            "Epoch 13/50\n",
            "15/15 [==============================] - 28s 2s/step - loss: 0.0027 - accuracy: 1.0000 - val_loss: 13.4795 - val_accuracy: 0.3333\n",
            "Epoch 14/50\n",
            "15/15 [==============================] - 28s 2s/step - loss: 9.0404e-10 - accuracy: 1.0000 - val_loss: 16.5662 - val_accuracy: 0.4000\n",
            "Epoch 15/50\n",
            "15/15 [==============================] - 28s 2s/step - loss: 1.8872e-07 - accuracy: 1.0000 - val_loss: 19.6480 - val_accuracy: 0.4000\n",
            "Epoch 16/50\n",
            "15/15 [==============================] - 28s 2s/step - loss: 3.5375e-09 - accuracy: 1.0000 - val_loss: 22.3333 - val_accuracy: 0.4000\n",
            "Epoch 17/50\n",
            "15/15 [==============================] - 28s 2s/step - loss: 4.0924e-07 - accuracy: 1.0000 - val_loss: 24.5998 - val_accuracy: 0.4000\n",
            "Epoch 18/50\n",
            "15/15 [==============================] - 28s 2s/step - loss: 1.9065e-06 - accuracy: 1.0000 - val_loss: 26.2272 - val_accuracy: 0.4000\n",
            "Epoch 19/50\n",
            "15/15 [==============================] - 28s 2s/step - loss: 2.5870e-08 - accuracy: 1.0000 - val_loss: 27.1225 - val_accuracy: 0.4000\n",
            "Epoch 20/50\n",
            "15/15 [==============================] - 28s 2s/step - loss: 1.1520e-04 - accuracy: 1.0000 - val_loss: 27.1579 - val_accuracy: 0.4000\n",
            "Epoch 21/50\n",
            "15/15 [==============================] - 28s 2s/step - loss: 5.6053e-09 - accuracy: 1.0000 - val_loss: 26.6505 - val_accuracy: 0.4667\n",
            "Epoch 22/50\n",
            "15/15 [==============================] - 28s 2s/step - loss: 6.8090e-08 - accuracy: 1.0000 - val_loss: 25.8012 - val_accuracy: 0.4667\n",
            "Epoch 23/50\n",
            "15/15 [==============================] - 28s 2s/step - loss: 1.1123e-08 - accuracy: 1.0000 - val_loss: 24.3211 - val_accuracy: 0.4667\n",
            "Epoch 24/50\n",
            "15/15 [==============================] - 28s 2s/step - loss: 1.8600e-05 - accuracy: 1.0000 - val_loss: 22.1611 - val_accuracy: 0.4667\n",
            "Epoch 25/50\n",
            "15/15 [==============================] - 31s 2s/step - loss: 1.6194e-07 - accuracy: 1.0000 - val_loss: 19.5731 - val_accuracy: 0.5333\n",
            "Epoch 26/50\n",
            "15/15 [==============================] - 28s 2s/step - loss: 4.0179e-09 - accuracy: 1.0000 - val_loss: 17.2872 - val_accuracy: 0.6000\n",
            "Epoch 27/50\n",
            "15/15 [==============================] - 28s 2s/step - loss: 9.8356e-09 - accuracy: 1.0000 - val_loss: 14.8105 - val_accuracy: 0.6000\n",
            "Epoch 28/50\n",
            "15/15 [==============================] - 28s 2s/step - loss: 3.6687e-09 - accuracy: 1.0000 - val_loss: 11.9787 - val_accuracy: 0.6000\n",
            "Epoch 29/50\n",
            "15/15 [==============================] - 28s 2s/step - loss: 1.1814e-07 - accuracy: 1.0000 - val_loss: 9.2335 - val_accuracy: 0.6000\n",
            "Epoch 30/50\n",
            "15/15 [==============================] - 28s 2s/step - loss: 5.7454e-09 - accuracy: 1.0000 - val_loss: 6.9812 - val_accuracy: 0.6667\n",
            "Epoch 31/50\n",
            "15/15 [==============================] - 28s 2s/step - loss: 9.1386e-09 - accuracy: 1.0000 - val_loss: 5.3217 - val_accuracy: 0.7333\n",
            "Epoch 32/50\n",
            "15/15 [==============================] - 28s 2s/step - loss: 3.7413e-07 - accuracy: 1.0000 - val_loss: 3.9917 - val_accuracy: 0.7333\n",
            "Epoch 33/50\n",
            "15/15 [==============================] - 28s 2s/step - loss: 4.6151e-09 - accuracy: 1.0000 - val_loss: 2.8818 - val_accuracy: 0.7333\n",
            "Epoch 34/50\n",
            "15/15 [==============================] - 28s 2s/step - loss: 2.9019e-09 - accuracy: 1.0000 - val_loss: 1.7818 - val_accuracy: 0.7333\n",
            "Epoch 35/50\n",
            "15/15 [==============================] - 28s 2s/step - loss: 3.1572e-07 - accuracy: 1.0000 - val_loss: 0.8330 - val_accuracy: 0.8000\n",
            "Epoch 36/50\n",
            "15/15 [==============================] - 28s 2s/step - loss: 2.7532e-09 - accuracy: 1.0000 - val_loss: 0.2042 - val_accuracy: 0.9333\n",
            "Epoch 37/50\n",
            "15/15 [==============================] - 28s 2s/step - loss: 1.4693e-08 - accuracy: 1.0000 - val_loss: 0.0101 - val_accuracy: 1.0000\n",
            "Epoch 38/50\n",
            "15/15 [==============================] - 28s 2s/step - loss: 1.8907e-07 - accuracy: 1.0000 - val_loss: 2.7485e-04 - val_accuracy: 1.0000\n",
            "Epoch 39/50\n",
            "15/15 [==============================] - 28s 2s/step - loss: 3.8922e-05 - accuracy: 1.0000 - val_loss: 9.0748e-06 - val_accuracy: 1.0000\n",
            "Epoch 40/50\n",
            "15/15 [==============================] - 28s 2s/step - loss: 3.8601e-08 - accuracy: 1.0000 - val_loss: 5.0789e-07 - val_accuracy: 1.0000\n",
            "Epoch 41/50\n",
            "15/15 [==============================] - 28s 2s/step - loss: 5.5802e-10 - accuracy: 1.0000 - val_loss: 7.9327e-08 - val_accuracy: 1.0000\n",
            "Epoch 42/50\n",
            "15/15 [==============================] - 28s 2s/step - loss: 1.8870e-08 - accuracy: 1.0000 - val_loss: 2.0869e-08 - val_accuracy: 1.0000\n",
            "Epoch 43/50\n",
            "15/15 [==============================] - 28s 2s/step - loss: 1.2923e-09 - accuracy: 1.0000 - val_loss: 8.2555e-09 - val_accuracy: 1.0000\n",
            "Epoch 44/50\n",
            "15/15 [==============================] - 28s 2s/step - loss: 1.8456e-08 - accuracy: 1.0000 - val_loss: 4.1955e-09 - val_accuracy: 1.0000\n",
            "Epoch 45/50\n",
            "15/15 [==============================] - 31s 2s/step - loss: 1.2784e-09 - accuracy: 1.0000 - val_loss: 2.4553e-09 - val_accuracy: 1.0000\n",
            "Epoch 46/50\n",
            "15/15 [==============================] - 28s 2s/step - loss: 2.9413e-09 - accuracy: 1.0000 - val_loss: 1.5490e-09 - val_accuracy: 1.0000\n",
            "Epoch 47/50\n",
            "15/15 [==============================] - 28s 2s/step - loss: 7.2958e-08 - accuracy: 1.0000 - val_loss: 1.1528e-09 - val_accuracy: 1.0000\n",
            "Epoch 48/50\n",
            "15/15 [==============================] - 28s 2s/step - loss: 1.9666e-09 - accuracy: 1.0000 - val_loss: 1.2124e-09 - val_accuracy: 1.0000\n",
            "Epoch 49/50\n",
            "15/15 [==============================] - 28s 2s/step - loss: 2.0605e-09 - accuracy: 1.0000 - val_loss: 1.2644e-09 - val_accuracy: 1.0000\n",
            "Epoch 50/50\n",
            "15/15 [==============================] - 28s 2s/step - loss: 8.6867e-09 - accuracy: 1.0000 - val_loss: 1.3179e-09 - val_accuracy: 1.0000\n"
          ],
          "name": "stdout"
        }
      ]
    },
    {
      "cell_type": "code",
      "metadata": {
        "id": "hrxJFyutzlJd",
        "colab_type": "code",
        "colab": {}
      },
      "source": [
        "acc=h2.history['accuracy']\n",
        "val_acc=h2.history['val_accuracy']\n",
        "\n",
        "loss=h2.history['loss']\n",
        "val_loss=h2.history['val_loss']\n",
        "\n",
        "epochs_range=range(epochs)"
      ],
      "execution_count": 262,
      "outputs": []
    },
    {
      "cell_type": "code",
      "metadata": {
        "id": "3mojPWv_z8Rv",
        "colab_type": "code",
        "colab": {
          "base_uri": "https://localhost:8080/",
          "height": 282
        },
        "outputId": "ef9cca29-5764-4ee8-c3b6-aa987229645e"
      },
      "source": [
        "plt.figure()\n",
        "plt.plot(acc,label='accuracy')\n",
        "plt.plot(val_acc,label='val_accuracy')\n",
        "plt.legend()"
      ],
      "execution_count": 263,
      "outputs": [
        {
          "output_type": "execute_result",
          "data": {
            "text/plain": [
              "<matplotlib.legend.Legend at 0x7f52f1b7a5c0>"
            ]
          },
          "metadata": {
            "tags": []
          },
          "execution_count": 263
        },
        {
          "output_type": "display_data",
          "data": {
            "image/png": "[encoded data removed]",
            "text/plain": [
              "<Figure size 432x288 with 1 Axes>"
            ]
          },
          "metadata": {
            "tags": [],
            "needs_background": "light"
          }
        }
      ]
    },
    {
      "cell_type": "code",
      "metadata": {
        "id": "n7KhDIxU0Hfw",
        "colab_type": "code",
        "colab": {
          "base_uri": "https://localhost:8080/",
          "height": 265
        },
        "outputId": "4e5c8b90-b0d0-44a9-b584-9bf038409d4d"
      },
      "source": [
        "plt.figure()\n",
        "plt.plot(loss,label='loss')\n",
        "plt.plot(val_loss,label='val_loss')\n",
        "plt.legend()\n",
        "plt.show()"
      ],
      "execution_count": 264,
      "outputs": [
        {
          "output_type": "display_data",
          "data": {
            "image/png": "[encoded data removed]",
            "text/plain": [
              "<Figure size 432x288 with 1 Axes>"
            ]
          },
          "metadata": {
            "tags": [],
            "needs_background": "light"
          }
        }
      ]
    },
    {
      "cell_type": "code",
      "metadata": {
        "id": "wh4jycMmz3tR",
        "colab_type": "code",
        "colab": {}
      },
      "source": [
        "test = '/content/gdrive/My Drive/Capstone Dataset/Dataset1/test/touch/touch29.jpg'\n",
        "test1='/content/gdrive/My Drive/Capstone Dataset/Dataset1/test/nontouch/notouch100.jpg'\n",
        "\n",
        "test2 = '/content/gdrive/My Drive/Capstone Dataset/test2.jpg/'\n",
        "test3='/content/gdrive/My Drive/Capstone Dataset/test3.jpg'"
      ],
      "execution_count": 265,
      "outputs": []
    },
    {
      "cell_type": "code",
      "metadata": {
        "id": "y4gMHApk1i4K",
        "colab_type": "code",
        "colab": {}
      },
      "source": [
        "#temp = tf.keras.utils.get_file('test.jpg',origin=test)"
      ],
      "execution_count": 274,
      "outputs": []
    },
    {
      "cell_type": "code",
      "metadata": {
        "id": "Uz67gu6F2uhX",
        "colab_type": "code",
        "colab": {
          "resources": {
            "http://localhost:8080/nbextensions/google.colab/files.js": {
              "data": "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",
              "ok": true,
              "headers": [
                [
                  "content-type",
                  "application/javascript"
                ]
              ],
              "status": 200,
              "status_text": ""
            }
          },
          "base_uri": "https://localhost:8080/",
          "height": 109
        },
        "outputId": "d4ae6153-83eb-4c27-b5ee-39ac57570345"
      },
      "source": [
        "from google.colab import files \n",
        "files.upload()"
      ],
      "execution_count": 286,
      "outputs": [
        {
          "output_type": "display_data",
          "data": {
            "text/html": [
              "\n",
              "     <input type=\"file\" id=\"files-c5af5faa-b008-4e51-baba-3d2e0b574264\" name=\"files[]\" multiple disabled\n",
              "        style=\"border:none\" />\n",
              "     <output id=\"result-c5af5faa-b008-4e51-baba-3d2e0b574264\">\n",
              "      Upload widget is only available when the cell has been executed in the\n",
              "      current browser session. Please rerun this cell to enable.\n",
              "      </output>\n",
              "      <script src=\"/nbextensions/google.colab/files.js\"></script> "
            ],
            "text/plain": [
              "<IPython.core.display.HTML object>"
            ]
          },
          "metadata": {
            "tags": []
          }
        },
        {
          "output_type": "stream",
          "text": [
            "Saving notouch49.jpg to notouch49.jpg\n"
          ],
          "name": "stdout"
        },
        {
          "output_type": "execute_result",
          "data": {
            "text/plain": [
              "{'notouch49.jpg': b'\\xff\\xd8\\xff\\xe0\\x00\\x10JFIF\\x00\\x01\\x01\\x00\\x00\\x01\\x00\\x01\\x00\\x00\\xff\\xdb\\x00C\\x00\\x06\\x04\\x05\\x06\\x05\\x04\\x06\\x06\\x05\\x06\\x07\\x07\\x06\\x08\\n\\x10\\n\\n\\t\\t\\n\\x14\\x0e\\x0f\\x0c\\x10\\x17\\x14\\x18\\x18\\x17\\x14\\x16\\x16\\x1a\\x1d%\\x1f\\x1a\\x1b#\\x1c\\x16\\x16 , #&\\')*)\\x19\\x1f-0-(0%()(\\xff\\xdb\\x00C\\x01\\x07\\x07\\x07\\n\\x08\\n\\x13\\n\\n\\x13(\\x1a\\x16\\x1a((((((((((((((((((((((((((((((((((((((((((((((((((\\xff\\xc0\\x00\\x11\\x08\\x00\\xf0\\x01@\\x03\\x01\"\\x00\\x02\\x11\\x01\\x03\\x11\\x01\\xff\\xc4\\x00\\x1c\\x00\\x01\\x00\\x02\\x02\\x03\\x01\\x00\\x00\\x00\\x00\\x00\\x00\\x00\\x00\\x00\\x00\\x00\\x01\\x02\\x03\\x07\\x04\\x05\\x06\\x08\\xff\\xc4\\x00?\\x10\\x00\\x01\\x03\\x02\\x04\\x04\\x02\\x06\\x08\\x03\\t\\x01\\x01\\x00\\x00\\x00\\x01\\x00\\x02\\x11\\x03!\\x04\\x121A\\x06\"Qa\\x05q\\x07\\x132B\\x81\\xb2\\x166Rr\\x82\\x91\\xa1\\xb1\\x15b\\xb3\\x14#3s\\x83\\xc1\\xd1\\xf0\\xf1%\\x92\\xff\\xc4\\x00\\x19\\x01\\x01\\x01\\x00\\x03\\x01\\x00\\x00\\x00\\x00\\x00\\x00\\x00\\x00\\x00\\x00\\x00\\x00\\x01\\x02\\x04\\x05\\x03\\xff\\xc4\\x00\\'\\x11\\x01\\x01\\x00\\x02\\x02\\x02\\x01\\x03\\x03\\x05\\x00\\x00\\x00\\x00\\x00\\x00\\x00\\x01\\x02\\x11\\x03\\x12\\x041q!3a\"#\\xd1\\x05\\x13ABQ\\xff\\xda\\x00\\x0c\\x03\\x01\\x00\\x02\\x11\\x03\\x11\\x00?\\x00\\xfa\\xa5\\x11\\x10\\x11\\x11\\x01\\x11\\x10\\x11\\x11\\x07G\\xc6\\xf1\\xf4c\\x19&\\x07%\\xff\\x00\\x1bV\\xad\\xb3\\xb4\\x9bu[K\\x8d\\xfe\\xacc->\\xc5\\xbf\\x1bV\\xackd\\x1c\\xbf\\x99\\xb8^y\\xfbe\\x00\\xd3\\x9b\\xd8\\x05\\xdb\\x1e\\x8a\\xc1\\xd6\\xcb \\xc6\\x80\\xde\\x15\\x0b\\x00u\\x9d\\x04i*Z3\\x9d\\x00#pV\\n\\xb0\\x19\\x9et\\x17\\xbb\\xbb\\xab=\\xae\\xa7\\xa1\\x13\\xb9\\t.\\x02\\r\\xad\\xe4\\xa5\\xad{Aq>r\\x16H\\xc4C\\xddq\\x05\\xa7n\\xc9i\\xe4s@\\xe8\\x15\\xdc\\xd0\\xeb\\xef\\xd0\\x15Q\\xbf&n\\xa5A[\\xebP5\\xc7k\\xc1Vs\\xdel\\tob5T\\xcby\\x1a\\x9e\\x97S\\x9b\\xd5\\x8el\\xc0l#T\\x17\\x0cio4\\xcfX\\xd5T5\\xa0\\xdd\\xd1\\xd2U\\xe5\\xaf\\x8ei\\xe9\"\\x14Tl\\x88!\\xb1\\xa0TD\\xb5\\xc4\\x87\\x02H\\xe8uQ\\xce\\xc7E6\\x96\\xcf{)m2\\xcb\\xc3@\\xeb:\\xab\\x90@\\x86\\xc0\\'iA\\x8d\\xef>\\xd3\\xc0\\'\\xa9\\xd9b<\\xce\\xe7s\\x88\\xd9\\xbd\\x16c{\\x10m\\xf1\\n\\xa1\\xf7\\x83N\\x0fR\\x83\\x10`q\\x80$\\x9d\\xc9Us\\x18]\\xce$\\x8d \\xac\\xcek]$\\x18\\x8dU`8\\xc0\\x81\\x1e\\xf2\\x0c\\x04\\x16\\x8b\\xb9\\xc4t!T0\\xb8\\xfd\\x907\\x95\\xc9\\xe6\\x1e\\xd1\\x04t\\n\\xc0\\xb1\\xd02]4!\\x9e\\xad\\xb1\\x99\\xc0?\\xf7Vs\\x1b\\xee\\xbeg\\xf4U4X\\xf9/\\x19;\\xa8n\\x1c7\\xd9y\\xebr\\xa8\\x93D\\xb6\\x08xx\\xef\\xaa\\xda\\x9c\\x0c\\x00\\xe1\\x8c$u\\x7f\\xce\\xe5\\xaa\\x1dL6y\\xdc]\\xb2\\xda\\xdc\\x08sp\\xb6\\x0c\\x90A\\x97\\xeb\\xf7\\xdc\\xae>\\xd2\\xbb\\xf4DY\\xa0\\x88\\x88\\x08\\x88\\x80\\x88\\x88\\x08\\x88\\x80\\x88\\x88\\x08\\x88\\x80\\x88\\x88:.71\\xc3\\x18\\xc3${\\x17\\x02}\\xf6\\xad_-i$\\x90#`\\xb6\\x87\\x1c\\x00xc\\x19\\x98H\\xe4\\xb7\\xe3j\\xd5\\xa1\\xd1\\xa1\\x04l\\x1a4^y{e\\x03O8\\x90nn`J\\x902\\x0b\\x926\\ng1\\x17\\'\\xcch\\xa4\\xba\\xfc\\xc6\\x0f\\x92\\xc7Js\\x01\\x01\\xc4\\x93rT\\xe6s\\x80\\x9a\\xd6\\x07C\\xbf\\xc1\\x03\\x1d\\xb9\\x96\\x8e\\x85\\x03C\\xc8!\\xd1{\\xcbuAb\\xe0d\\x9abv\\xba\\xab\\x87Mgk\\xac\\x84\\x80?\\xbc&5\\x86\\xff\\x00\\xddU\\x0er\\x01\\x10[\\xd5\\xc1TA\\xb3f\\x01&\\xe1=\\x915\\x047\\xa2\\x91k\\x82\\x00\\xdcJ\\x82D\\xe6qs\\x9c{\\xd9\\x04\\x08\\x07\\xcf\\xba\\x064\\xcef\\x98\\xebt\\xc8wx;\\xce\\xca\\xc4\\x82 \\xb9\\xc1\\xc3}B\\x0cc.\\xb9\\xb3\\xb4\\xe9b\\xa4\\xb7 \\xbf,\\xecF\\x81d\\xce\\xc2.\\xd2\\xe1\\xd8o\\xd5\\x0e\\xcei\\xce:\\x12\\xa8\\xc4\\xf0\\xec\\xbf\\xdd\\x96\\x87lgU\\r\\x977-^S\\x12IWsX\\x04\\x92A=tU,\\xcd%\\xc4T\\x1b\\tA\\\\\\x8ei\\x86\\xb7\\x97\\xac\\xd9C\\xe8\\x88\\x80\\\\\\xe3\\xa8\\r\\xdd\\\\\\x10\\x1a[\\x04\\x0f(\\x85\\x05\\xa7,\\x92CI\\xb4j\\x83\\x15\"\\x1dj\\x8d,\\xe9\\xd4+hM\\x81\\x1dJ\\xcbQ\\xd0\\xd9\\xa7s\\xb8\\xddK\\x1c\\xd8\\x07)iAB\\xdd!\\xc1\\xe0\\xeb\\xd9AnS-\\x82\\xd3\\xac\\x95k\\x93\\rl\\x8e\\xa3e\\x01\\xe1\\x86\\r\\xc7]P@h\\x02C\\xad\\xd1m>\\x083\\xc38C\\xdd\\xff\\x009Z\\xb4\\xb5\\xa4\\xe6\\x89=\\xac\\xb6\\x97\\x04}Y\\xc2OW\\xfc\\xe5e\\x8aWz\\x88\\x8b$\\x11\\x11\\x01\\x11\\x10\\x11\\x11\\x01\\x11\\x10\\x11\\x11\\x01\\x11\\x10\\x11\\x11\\x07G\\xc6\\xff\\x00Vq\\x9f\\x83\\xe7j\\xd5\\x80k\\xf6F\\xb6\\xd1m.7\\x13\\xc3\\x18\\xc9\\xfeO\\x9d\\xabW\\xe4$\\x889@\\xdeey\\xe7\\xed\\x94\\xf4\\x0ey\\xd3.\\xd2\\xa36P\\x18DE\\xb2\\x9d\\x948@2\\xe8:e\\x03T\\x0e\\x81\\x95\\xafi\\xfdH\\xf3PLK\\xad#\\xa6\\xc1X\\x12\\xd3q\\x07A\\x06\\xd2\\xa9$\\x03x\\x81s\\xff\\x00\\tL\\x80\\x013\\x07r\\x10f\\x00\\x8b\\x17\\x1b\\xdf\\xcdX\\xe6u\\xc3\\xa3\\xaa\\xc6*\\x96\\x87\\x111\\xa6^\\xbeJe\\xae|\\x00\\xe0\\xe8\\xd5\\xc8\\xa1q\\x90\\x08\\x04\\r-\\xa1Q\\xd4\\xb8D\\xee\\x10\\xd8\\xc5C\\x96?U\\x19Z\\xf6\\x92,\\x07S\\xa2 XZ$Ai\\xd7\\xb2\\x98\\xbc8\\x10\\xdd\\xae\\xa1\\x92\\xd3\\x0e\\x10\\xe3\\xd3Ec\\x98\\x1b\\x9c\\xe3\\xa1\\xd9\\x05\\xe1\\xcdt9\\xb6\\xd8\\x8b*\\x1ay\\x0b\\x9e\\xd8l\\xfbAT5\\xdbH\\x07@tY\\x05\\xa0Uf\\x9a;r\\xa8\\xc4^\"@2m\\xa2\\xa1\\x89\\xbf+\\xb6\\x0b+\\x9c\\xe2\\xf8ioM\\x14\\x00\\xe0y\\xc4\\xc6\\xfb\\x84\\x01\\xcc\\x04\\xbe\\xc3IG0\\xb8\\xeb\\x07r\\xa1\\xf4\\xe7\\x98\\x16\\x96\\xf7*\\x1c\\xd7\\xd9\\xa1\\xc0\\xb3\\xb6\\xc8#/\\xab\\x939\\x8fS\\xb2\\x91M\\xee\\xf7\\xa0\\xf4*)\\xbb \\xca^\\xca\\x84YX\\x87\\x13\\xc8cx($\\x0c\\xed\"=[\\xb4\\'\\xaadp\\x10\\xc7\\x08\\xddC\\xa8\\x9a\\x8d\\x0f.\\xb8\\xe8\\xaa\\x18\\x08\\x98w{\\xa0\\x13&\\'\\xfe\\x16\\xd3\\xe0\\x98\\x1c5\\x84\\x837\\x7f\\xceV\\xaa,\\x11\\xec\\x92\\xd5\\xb58\\x1c\\x01\\xc3\\x18@\\xd3\"_\\xf3\\xb9\\\\R\\xbb\\xd4DY\\xa0\\x88\\x88\\x08\\x88\\x80\\x88\\x88\\x08\\x88\\x80\\x88\\x88\\x08\\x88\\x80\\x88\\x88:>6\\x13\\xc38\\xc1\\x7fsO\\xbe\\xd5\\xab@q\\'#Ly\\xc4\\xad\\xa5\\xc6\\xa2xk\\x17i\\xf6-\\xf8\\xda\\xb5p-\"%\\xcb\\xcf?l\\xa7\\xa5@y\"X#\\xf6V\\xb1=\\x0e\\xc2a\"\\x07-\\x89\\xddC\\x882$\\x8e\\xddT\\x10\\xee\\xed\\x9f\\x8a\\x80\\\\\\xe36\\xca\\xa6\\x04KM\\xfa\\x10\\x99\\x9d;\\x08\\xb2\\x0b5\\xd12D\\x8b\\xccD\\xa3K\\\\!\\xb6\\x9b\\xc9\\x1a\\xa8&A\\xb4\\xf5=\\x14{@\\xb8\\x89o\\xe4Pd..\\xe5\\x02\\x08\\xdc\\xec\\xaabt\\x88\\xd8&r[\\xa1\\xedu\\x04\\x90&#\\xafU@\\x96\\xc4\\x00\\xf2\\xa4=\\xcc\\x1c\\xa33{\\xea\\x14\\r,L\\x9d\\x12\\xf3rg\\xb6\\x88$8jI2\"\\x14\\x88\\x03\\xfcC\\x1bH\\x98U\\x0c\\xd2\\xe0\\xfcT\\xb0\\xdc\\xc1\\x05\\xbd\\x90XK\\x9b\\x95\\xff\\x00\\x0bD\\xaa:X@\\xb1n\\x99\\x89U\\xc4\\x00)\\x92\\xe0A\\xfbA`mB\\x05\\x9aL\\xf4(9@\\t\\x90\\x00#m\\x8a\\x00 \\xfa\\xab\\r\\xc1XX\\xf2\\xe1\\x1a\\r\\x8a\\xc9\\x0e\\xd0\\x8e`\\x83#\\x80s%\\xc0;\\xad\\x96<\\xfbO.\\xc3u$T\\x06C\\x01\\x1d%I70\\xd1=\\x10W3\\x9c\\xeb\\x08\\x1b\\x13\\xb2\\xb3\\x9aO4\\x19\\xea\\x97u\\xc8\\x01\\xdd\\xd4e3.p\\x9e\\xc8\\x01\\xce\\x8e^W\\xf7\\xd1m\\x1e\\x07\\xcd\\xf4c\\t\\xeb\\x00\\x0e\\x97\\xcci\\xed\\xb9j\\xf2n\\x03\\xa7\\xcc-\\xa3\\xc11\\xf4k\\t\\x06D\\xbf\\xe7+(\\x95\\xde\"\"\\xc9\\x04D@DD\\x04D@DD\\x04D@DD\\x04DA\\xd1\\xf1\\xb4}\\x19\\xc6L\\x81\\xc9\\xa7\\xdfj\\xd5\\xc0X\\x98 u[K\\x8d\\x1d\\x97\\x86\\xf1g\\xa6M\\xa7\\xdf\\x0bX\\xb4g\\x04\\xe6\\r\\xfe]\\x96\\x19{e=1\\x19\\x81\\x94\\xb4\\x93\\xb1H\\x00\\\\_\\xbd\\xe1d{N\\xdatX\\xcf-\\x9c<\\xc4h\\xb1\\x10KH\\x19o\\xd7u\\x16\\x93\\x9a\\xf1\\xf9\\xab\\x8b{$\\x01\\xdfU\\x0f0<\\xf5\\x1d\\x10)\\xe6 \\x9c\\xc4\\xb7\\xcf\\xfe\\xddf\\xc3a\\xaa\\xe2\\x9cYB\\x9b\\xea=\\xbbB\\xc3\\xea\\xfdi\\x16!\\xdfh[\\xf3^\\x8f\\xc2\\x9ap\\x94\\rJ.-y\\xdc,nZ\\xba{\\xf1qw\\x96\\xbc\\xf3\\x98\\xfaO-\\xa8 \\x8ft\\x85R\\xe8\\xbc\\xfc\\x17;\\xc6\\xcb\\x9e\\xd3]\\xed\\x92\\r\\xcfU\\xd7\\x07\\x07\\xb4<:\\x01\\xd0\\x1d\\xc2\\xb8\\xe72\\xfa1\\xe5\\xe2\\xbc~\\xd60L\\xb8\\x16\\xb0\\xee\\x14\\x1c\\x84Fc*\\x05\\x85\\xe0\\x03\\xd5X\\xe6\\x02\\xef\\x0e\\xe9\\x03U\\x93\\xc9\\x1e\\xacD\\xbbQ\\xbfd\\x86\\x1d\\xc4\\xf5\\xea\\xa0\\xcb\\x8ehp#\\xa5\\xa5$F\\x80\\xfcn\\x11\\x10\\xe6\\xbd\\x8d$\\x10A\\xdad\\x0f5\\xc3qq\\xa9\\xc8!\\xdfd\\x18\\x1f\\x05\\xcc\\xceZ@m\\x89\\xb4\\x1f\\xddq1\\rh\\xb9i{N\\xb2n\\xde\\xea\\x85:\\xe6o\\x00\\xee\\n\\xe6\\xb0\\x9a\\xad\\x04\\x96\\x826\\x88]p\\xf5r\\x06R\\xe1\\xf6\\xa6af\\xa7Ro$\\r\\xc1Es@\\xaa\\xc2=[\\xad\\xd1=a{\\xacK_\\xe4\\xa8\\x1e\\x1dk\\x8f=\\x15\\x88{\\xbd\\xac\\xa5\\x83\\\\\\xca\"\\xefn\\xb9\\xce\\xbd?\\xd9C@\\x06Z\\x03\\x9aU\\x1a\\xd6\\xe9N\\xd1\\xa7E\\x905\\xa4\\x10~ i(\\xaa\\xc3c\\x97U\\xb4x \\xcf\\x0c\\xe14\\xd5\\xff\\x009Z\\xce\\x1a\\xeb6C\\x86\\x90\\xb6w\\x05\\x02\\xde\\x1b\\xc2\\x07D\\xcb\\xf4\\xfb\\xe5e\\x12\\xbb\\xb4DY \\x88\\x88\\x08\\x88\\x80\\x88\\x88\\x08\\x88\\x80\\x88\\x88\\x08\\x88\\x80\\x88\\x88:>6\\xfa\\xb3\\x8c\\xb4\\xfb\\x16\\xfcmZ\\xb0\\x06\\xb7]V\\xd3\\xe3i\\xfa3\\x8c\\x8f\\xe4\\xf9\\xda\\xb5h\\xd2\\xf0J\\xc3/l\\xa2\\xc0\\x82\\x0c\\x83\\n\\xb6\\x98i\\x83\\xe4\\x92D\\r\\xca\\x92\\x08\\x07\\xf6\\x85\\x00\\x024\\xc8|\\xc6\\x8a\\xae\\x04\\x19\\x12J\\x9b\\x9bH\\x8f%J\\xae\\x14\\xda\\\\\\xe3m\\xa1Ku7VKn\\xa3\\x91A\\xf4\\xe9\\x80\\t\\x02\\xa3\\xcf\\xe4\\x17\\xa2\\xc0\\x91Q\\x81\\x80\\xda5^\\x06\\x964\\x9cl\\x91\\x98J\\xf5\\xd8\\x0f\\x11\\x1e\\xaa\\xc2,\\xb5q\\xe5\\x96\\xee\\xbaS\\x8f\\xae2DqC\\xdbO\\x08\\xe6\\xb6\\x00\\x01y\\xdf\\x0b\\xcc\\xec\\x05\\'\\x12\\x08\\xbd\\x88\\xdaVN+\\xc7M\\x17\\x00\\xeb\\x95\\\\\\r&\\xb7\\x05A\\xa4\\xf3\\x06\\r\\x17\\xa7\\x17\\xd7+^>W\\xd3\\t\\x19\\xc1h7\\x05\\xbf\\xa8R\\xe6\\xb4\\x12X \\x8d\\xfa \\xbb`\\xfe\\x8aA\\xc8.\\xd9\\x1dE\\xe1l4B\\xe7\\x01\\xcf\\xcc{) \\x03g_\\xa2\\x879\\xb3#\\xf3\\x02\\x15Kr\\xcd\\xf5Ab_\\x96?\\xe1q\\xeb\\x03\\x13R#I\\x03\\xf7Y\\xf25\\xe2se\\x8d\\x85\\xe5U\\xc0{\\xc2|\\xf7A\\xd6\\xd4k\\x03\\xbd\\xa0\\x01;\\x0b+3(#\\xd5\\x9c\\xbd\\xe5+\\xb7%O\\xee\\xc9\\x00\\xed\\xd5c\\r\\xcc!\\xd2\\xd6\\xbb\\xa8A\\xcf\\xa0\\xfa\\x87\\x96\\xa8\\xb6\\xc4\\rOE\\x984\\x81i\\x1d\\x89]}\\'9\\xae\\xcaL\\x81\\xa4\\x9b\\x95\\xd8Rx-\\xcc\\xea\\xd6\\x1b\\x12\\x82\\xec\\xd31\\x1c\\xa3ubC\\xc6f\\x10>*\\x8f :]\\x00\\x1d\\x04\\xea\\xa8\\xe2\\x18t\\x82t\\x94\\x16s\\xde4\\x81\\x1f\\xaa\\xda|\\x0e\\xe2\\xee\\x18\\xc2\\x13\\xac\\xbf\\xe7+U\\x81\"C%\\xdbt[S\\x81\\xc8w\\x0ca\\x08n[\\xbe\\xdf\\x8c\\xab\\n\\xefQ\\x11d\\x82\" \"\"\\x02\" \"\"\\x02\" \"\"\\x02\" \\xe8\\xb8\\xdc\\xc7\\x0cc\\x0f\\xdc\\xf9\\xda\\xb5u\\xb5\\r\\x92\\xb6\\x8f\\x1c\\t\\xe1\\x8cg\\xe0\\xf9\\xda\\xb5cmyXe\\xed\\x94L\\x90l\\xe8\\x07\\xa8A\\x94\\x0fhO\\x92\\x9du*\\x1b-\\x1ej\\t\\x99\\xf6\\xa2\\x07E\\xd2x\\xce7.%\\xb4\\xc3\\xe44.\\xe9\\xe7+\\x0b\\x8ci\\xf1^S\\xc5p\\x95\\x9fU\\xf5\\x05\\xcb\\x8a\\xd5\\xf2\\xb3\\xd6=ck\\xc5\\xc3yv\\xae^\\x1b\\x103Im\\xba\\xae\\xcd\\x98\\x90)\\x12\\t^_\\x06\\xda\\xf4\\xc8\\x0f\\x04\\x8f5\\xcf\\xaf\\x89\\xf5t\\x88\\x98\\\\\\xd9\\x95\\x95\\xd3\\xd6\\xa3\\x1f\\x89b\\x1d\\x89\\xac\\xcaZ\\x978\\x05\\xe9\\xd9\\xa0\\x12`\\x08\\xba\\xf1\\xfe\\x0e\\x0e+\\xc6)M\\xc3\\ty\\xf8/f%\\xdc\\xa0\\xfc\\x17S\\xc5\\x9f\\xa7n_\\x97\\x96\\xf2\\x91C\\x13y*\\xe1\\xc5\\xa4\\x11 \\xfeC\\xc9P\\x086\\xb1Vi\\xd6\\xf7\\xf2[-U\\xcb\\x87\\xb5\\x10N\\xa3\\xaa\\xa0l\\x1b@\\x9b\\xd9L\\x12d\\xc0\\xf2S`4\\x07\\xac\\xa0\\xaeF\\xcebHv\\xc2\\x15\\\\wsc\\xad\\xa7\\xff\\x00\\x15\\xc8.\\xb8#KF\\xaa\\xa6u\\x06\\n\\x0e=f<\\xb0\\x96\\x08w\\xda\\xd1p\\x9e\\x1c\\x0c\\xb8\\x836$lWf\\xf1?\\xe2\\x18\\xec\\xb8UZ\\xe6<\\xcbFS\\xa7T\\x15fs\\x036b/\\xaa\\xe52\\xabdO\\x91\"\\xeb\\x843L9\\xae\\x1d\\xc0\\xd1d\\xa7bI\\xd7\\xafT\\x1c\\xe0\\xda`Zgn\\xea=K\\\\s\\x12sn%E\\x170\\xc1>P\\xaf\\r\\x9eS\\x07\\xa9\\xbc\\xa0\\x86\\x01I\\xd3\\x9c\\xdfE\\xb5\\xb8 \\xe6\\xe1\\x9c!\\xee\\xff\\x00\\x9c\\xadX\\xea@\\x89!\\xb9\\xba\\x83\\xaa\\xda\\\\\\x0c\\x08\\xe1\\x8c$\\x99\\xbb\\xfew+\\x07|\\x88\\x8b$\\x11\\x11\\x01\\x11\\x10\\x11\\x11\\x01\\x11\\x10\\x11\\x11\\x01\\x11\\x10\\x11\\x11\\x07E\\xc7\\x1fV1\\x9f\\x83\\xe7j\\xd5y\\xbb-\\xa9\\xc7?U\\xf1\\x9el\\xf9\\xda\\xb5[t\\xb7\\xea\\xb0\\xcb\\xdb(\\x90~*\\xdc\\xb6\\xbc|Um\\xd3\\xe2\\xa7Pc\\xf5Xe\\x94\\xc6n\\xb2\\xc3\\x1b\\x95\\xd4cx5\\x1d>\\xea\\xc3Z\\x8b\\\\5\\\\\\x86\\xb8\\x0f\\x82\\xad`\\x08\\xccn\\xb8\\xfc\\x99\\xdc\\xed\\xb5\\xd6\\xc3\\x19\\x84\\xd4t\\xb8\\xc6\\xb6\\x90\\x9b\\x02\\xba\\x0f\\x10\\xaeL\\x89\\xb0]\\xd7\\x89T \\x10\\x17\\x9e\\xc40\\x91\\xd4\\x92\\xb0\\xc3\\x1d\\xd7\\xa5\\xba\\x8fE\\xc1\\xf8X\\xc3?\\x15Q\\xa6j\\x18i\\xec\\xbd\\x13\\xc3H<\\xcel\\xf4\\xd4.?\\x85\\xd0\\xf5\\x18\\n\\x14\\xad\\x99\\xad\\x12\\x17&/s\\xfe\\xeb\\xb9\\x86=q\\x91\\xc4\\xcf.\\xd9Z\\xc6\\x05\\x88\\x0e1\\xdc)\\x8bA%\\xc7\\xf9vG\\x831\\x00\\x1e\\xca&\\xc6\\xe2<\\xb4+&\\x01\\xeb2\\x14\\x17e\\xb8\\x89\\xda\\xeaC\\xd8\\xeb\\xb7\\x95\\xdaGU\\x8a\\xab\\xd8%\\xa4\\x0f\\x88\\xd1\\x15\\x0f\\xa8\\xe6\\xdd\\xe4GP&\\x15\\x9a\\xf9na\\x0e\\x1b\\x98\\x90W\\x15\\xa4\\x17C\\x0c\\r\\xdb:+\\x8b\\x10uwq\\xfe\\xea\\x8e@p\\xa9\\xb0\\x9d.W\\x1e\\xb8\\xcb\\xed\\x02\\xdb\\xc1\\xcc4\\xee\\xa4\\xb8k`\\r\\x84\\x00P\\xd4y\\x19\\xc8/#\\x96\\xca\\x0cN%\\x9e\\xfei\\xdc(\\xa6\\xe6\\x9eb\\x0e\\x7f5f\\xb4\\x0f`\\x01\\x9bI6R\\xf7\\xd3<\\xb5$;I\\x10\\xa8\\xc9M\\xedm\\xcb\\x0cn#E\\xc9k\\xa6\\xc1\\x8d\\xc8ut\\xddqX\\xdc\\x86\\xc6\\x0fL\\xd1u\\xc8fb.\\xd6\\x9f\\xddA`\\xd7\\x83\"-\\xb1[W\\x81\\xfe\\xaca<\\xdf\\xf3\\xb9j\\xb3\\x04@7\\x1b\\x15\\xb58\\x1b\\xea\\xc6\\x0f\\xcd\\xff\\x00;\\x95\\x85w\\xa8\\x88\\xb2A\\x11\\x10\\x11\\x11\\x01\\x11\\x10\\x11\\x11\\x01\\x11\\x10\\x11\\x11\\x01\\x11\\x10t\\\\q\\xf5c\\x19\\xf8>v\\xadT\\x0c\\xf4[S\\x8e\\xbe\\xab\\xe3?\\x07\\xce\\xd5\\xaaK\\x83A+\\xcf;\\xa6X\\xcd\\x98\\x8a\\xcd\\xa3O1\\xb9\\xd9u\\x1f\\xc5\\x98\\x1e[0\\xfe\\x85q\\xbcg\\x18\\xe6K\\xa4\\x90\\x01\\x04\\r\\x97\\x9fc\\x1dY\\x99\\xaa\\xb8\\xde\\xe1\\xc1r\\xb9\\xf9\\xaf%\\xd4\\xf4\\xeapp\\xcc&\\xef\\xb7\\xae\\xa1\\x8e\\x0f \\xdcw\\\\\\x8a\\x98\\x89m\\x97\\x94\\xc3\\xe2\\xdfN\\xa3X\\xfef\\xe8\\x08\\xd9vf\\xb3\\x83F]\\xd6\\xadli8\\xd7\\x8b\\xae\\xbb\\xc2\\xe8\\x1cg\\x8a\\xd3f\\xaci\\xcc~\\n1\\xf5\\xc5:e\\xe4\\xdc\\xae\\xeb\\x84p\\xde\\xaf\\x06q5-R\\xb9\\x90\\x0f\\xd9[\\x9e/\\x1fl\\x9a\\xfeO\\'L\\x1d\\xfc\\xc4\\r<\\xf5S\\x00\\x0e\\xa3\\xcdV\\x0c\\xc3HR\\'\\xa4\\x9e\\x8b\\xaa\\xe4\\xb1>,\\x93\\x94DH\\xeb\\xba\\xbb\\x8c\\x182\\x0fB\\x15\\x08\\x90NL\\xcd\\xdc\\xb5AG\\xbel9Ou\\xc7yq\\xb3\\x8d\\xfa\\xc2\\x9a\\x91\\xb5\\xbe*\\xb9\\x9f0t\\x1dO\\xee\\xaa\\xa0\\x96\\x8d\\\\r\\x9b!\\xcb\\x10I\\xfc;\\xf7B\"\\xf2/\\xa4\\x89\\x08\\xdc\\xc0k\\x07\\xf4A-sM\\xa30\\xdd\\xb0\\xa4\\xc5\\xde\\xd2r\\xc4d\\xd0\\xa8\\xd4\\x876dhF\\x85\\x1e\\xf0\\xd8.\\xa2\\xf77pF\\x9d\\xd0V\\xf3\\xed\\xc0\\xd8;duF7\\x91\\xee7\\xd0\\x00\\xaf\\xea\\xd8\\xe0jRx\\x83\\xd6\\xd0\\xa8\\x0b\\xe4\\xb4\\x83{\\xcbt( 1\\xb3,\\xb8\\x16\\x85\\xc8\\xa1 \\xc0t\\xb7\\xcdai-\\x19\\x9aXv>K+*\\t\\xb8p;\\x9c\\xb6?\\x92\\x0eX\\x13r\\x01p\\xddm>\\x07\\xb7\\x0c\\xe1$\\x01w\\xe9\\xf7\\xca\\xd5a\\xd9\\x80\\x00\\xb5\\xaf\\x1d\\x0c\\x82\\xb6\\xa7\\x04O\\xd1\\x9c&me\\xff\\x009V\\x15\\xde\\xa2\"\\xa8\"\"\\x02\" \"\"\\x02\" \"\"\\x02\" \"\"\\x0f?\\xc7\\xb9\\xbe\\x8acr\\x18w\\'\\xce\\xd5\\xa8\\x1fM\\xc0f$\\xb8\\xf7[\\x87\\x8eD\\xf0\\xbe0wg\\xce\\xd5\\xaaj\\x01\\x90\\x02,W/\\xce\\xca\\xcc\\xfa\\xfe\\x1d\\x1f\\x0f\\x19\\xd6\\xdf\\xcb\\xce\\xe3\\xa8:\\xb5@\\xf0@#n\\xab\\x8b^\\x90c@4\\x81\\xfb\\x85w\\xb5\\xe94\\xd9\\xb2%p\\xea\\xd3\\x0ci\\x90\\tZ2\\xfd\\x1b\\x8e\\x9e\\x83\\x18\\xc7\\x17\\x169\\xbd\\xdc\\xb3\\x1a\\xc0\\xe8d\\x05\\\\ug\\xb4CZ\\xba\\xf7\\x17\\xb2\\x83\\xdc\\xe3\\x04\\xa4\\x9d\\xaa\\xdb\\xa87\\xff\\x00\\xab\\xe2\\xb4\\xf0T\\x8c\\x80e\\xe7\\xa0^\\xfe\\x9d6\\xd3c\\x18\\xd6\\xc3Z B\\xf3\\x1c\\x0f\\x83\\x14p\\xf8\\x8cY\\x1c\\xf5\\x9d\\x00\\x91\\xb0^\\xa37\\x9f\\xc1v||:`\\xe4\\xf99\\xf6\\xcf_\\xf1y\\x1ak\\xf1\\x8f\\xd5C\\x9b\\x02\\xf9\\x89:\\x7f\\xea\\xac\\xf4\\nD\\x03\\xcaL\\xee:/v\\xba@\\x8d#\\xcc\\x9b\\xa8sz\\x83\\xe6\\x14@:\\xc1\\xee\\xa0\\x1b[\\xf5A\\x8e\\xab\\\\\\tp$\\x83\\xa9!a\\x83\\xb5\\xc7^\\x8b\\x92o\\xab\\xa7\\xbc.=@\\xef)\\xdbd\\x18\\xcc\\x80K2\\xcfsi\\xfc\\x94K\\\\D\\x06\\x93\\xac\\x94t\\x03i\\x91\\xd1\\x0f4\\x9c\\xa4\\xcf\\xe8\\x8a\\x00$\\xc7+\\xb7h\\x88=\\xd5\\x9a\\xe2\\x01\\x9784k\\x1a\\xaa\\xf3\\x91\\xfbfI\\x04\\x89e\\xff\\x00/\\xcd\\x05\\xfd[O8s\\x88?\\xf6B:\\x9bj7\\x98\\x9f\\x85\\x88\\xfdV1\\x01\\xd0\\xe3\\x9b\\xa2\\xca\\xd2K\\xac9\\xba\\xce\\xa8+\\x1c\\xc5\\xcei\\xcc-\\x9b,+\\x19\\x00e\\xa8\\x08\\xee`\\xa9s\\x88\\xbb\\xceQ\\xa5\\xd4\\x01r\\xe9k\\xa7B\\x15\\x19h\\xb4\\x81\\x00\\x82\\xddr\\xbe\\xebm\\xf00\\x03\\x860q\\x1e\\xfe\\x9f|\\xad@\\x01l\\x1c\\xd9\\x8e\\xd9\\xb6+op#\\x8b\\xf8_\\x06\\xe2 \\xcb\\xed\\xf8\\xdc\\x90w\\xe8\\x88\\xaa\\x08\\x88\\x80\\x88\\x88\\x08\\x88\\x80\\x88\\x88\\x08\\x88\\x80\\x88\\x88\\x08\\x88\\x83\\xa1\\xe3\\xa3\\x97\\x85\\xf1\\x87\\xbb>v\\xadWW.BfA[S\\x8e\\x88\\x1c-\\x8c\\'NO\\x9d\\xabQ9\\xd9\\x19\\x96s6\\x7f%\\xc8\\xf3\\xfe\\xe4\\xf8t\\xbc?\\xb7~\\\\z\\xe6\\x1e\\x1a\\xd3\\xa0\\xd4\\x95\\xc2\\xc5T\\x10@p+.-\\xe1\\xce\\xb1\\xda%t\\x98\\xb7\\x90]\\xcd\\x01iV\\xe4q\\xf1U%\\xf1\\xddq\\xb19\\xaa=\\xb4X%\\xef!\\xa1R\\xa5I\\x7fE\\xdc\\xf0\\x96\\x0f\\xfbN1\\xd8\\xba\\x9e\\xc5;6wr\\xda\\xe0\\xe3\\xeddys\\xe7\\xd3\\x1d\\xbdO\\x87\\xe1F\\x0f\\x05J\\x8btc@\\xf8\\xac\\xae\\x99W\\x16*\\x1c\\xba\\xfe\\x9cz\\xa0\\xb5\\xc0\\xd3\\xaa\\x87^\\xe6\\x01:\\x91\\xba\\x90z\\x98=HPH\\x82\"\\xfdUEM\\x84\\t\\x88\\xde\\xe9\\x9a-\\xa7\\x92\\xa9$u\\xf3\\xd5KH\\xd0\\\\\\xf5\\x08\\xac\\x936\\x85\\x8d\\xe4\\x1b\\x10Ln6@\\xe3s\\x98\\x8b\\xcd\\xcd\\x94\\x82v\\x83\\xdd\\x11\\xc4q\\xbf4\\x81\\xe4\\xaa\\x1c\\xd0\\xe8eF\\xf4!\\xda\\x15\\x9e\\xb8\\x9ebe\\xdbJ\\xe3\\xdd\\xda\\x18\\x8b\\\\X\\xa0\\xb9\\xf6\\x80\\xcd\\x064O \\x08\\xde\\xcb\\x18qi\\x80\\x1aGq\\xa2\\xc8$\\x99\\x05\\xb2\\x11S\\x9c\\xc0\\x11\\x03^k#\\x9e\\xdc\\xbc\\xf1\\x94\\xecF\\x9f\\x10\\xa30l\\xed\\xd9\\xda+\\x08\\x10X\\xe1\\x9b\\xa4 \\x96\\x16\\xd8\\x874\\xb7\\xec\\xac\\x92\\x1b>\\xad\\xa0\\x13\\xac,M-s\\x9c\\xe6\\x17\\n\\xa3S\\xe6\\xad\\x9a\"r\\xd4\\x1fv\\xe5Qp^g+\\x0b\\x8f\\xd9\\xd0\\xad\\xb9\\xc0\\x93\\xf4[\\x0762\\xff\\x00\\x9d\\xcbQ\\x111\\x91\\xe2\\xd7\\x80\\x16\\xdc\\xe0/\\xaa\\xb89\\xea\\xff\\x00\\x9d\\xca\\xa3\\xd0\"\"\\x02\" \"\"\\x02\" \"\"\\x02\" \"\"\\x02\" \\xe88\\xf0\\xc7\\n\\xe3O\\xdc\\xf9\\xda\\xb4\\xae.\\xbc0\\xc4w\\x85\\xb9\\xfd!\\x18\\xe1\\x1cy\\xfb\\x9f;V\\x88\\xc6\\xd4sNQ`W\\x1f\\xfa\\x85\\xfd\\xd9\\xf1\\xfc\\xba\\x9e\\x14\\xfd\\xbb\\xf2\\xe1b\\xb1\\x91a1\\xd5uU\\xf1%\\xd2I\\x95\\x97\\x18\\xe8\\xcc\\\\l\\xbc\\xf6;\\x18\\xdaMs\\xaa>\\x1a:\\xad|1\\xdbj\\xd6o\\x13\\xc7\\xb6\\x85#\\x07\\x9a\\x17\\xa9\\xf4W\\x8dv\\'\\xc2\\xb1m\\xa8\\xe2\\\\\\xca\\xd3\\xf0!j\\x1cw\\x8a7\\x11X\\x9c\\xdc\\x83@\\xb6?\\xa1\\x9a\\xc1\\xce\\xf1&m\\x0ct~k\\xa1\\xc1\\x8f\\\\\\x9a~O\\xd7\\x06\\xcd\\x06T\\x12\\x8e\\xb1\\xb2\\x83\\xbd\\xe1o9\\xca\\xc9I>\\xec\\x85]Ou \\xd8\\xa0\\x89\\x9bf\\x82\\xab0\"\\'{n\\xa4\\xde\\xc6\\x15H=\\xa3\\xb2\"\\xd3h\"\\x11\\xdd\\x05\\xfa\\xa8\\xb0\\x89\\xfc\\x89\\xba\\x8f)\\x12PI-&\\x0f\\xed\\xfe\\xeb\\x8f\\\\\\x11f\\x17e\\xdc\\xf4Y\\xc9\\x80t=\\x95\\x0b\\xc4eu\\x89\\xd2uEq\\xc0\\x00H9\\x99\\xe7t\\x1e\\xaeCCI\\x1d\\xadu\\x0f\\r\\xa6\\xefy\\xc7\\xfe\\xec\\xad\\x9aE\\xdbp5\\n\\xa2\\xe5\\xc4\\xc4\\xdcm\\xd4(\\x0c3b[\\xf1R\\x08\"y\\x80\\x9dN\\xca\\xa4\\x97{@\\x1e\\x84\\rP^jhZ\\xd9\\x1b\\x93ef\\x90O#\\xb2\\xde\\xf0\\x15\\x01\\x0f<\\x95\\x88-\\xf7{\\xab\\x8d!\\xe0t\\xb1A/\\x91v\\x82~\\xd0\\xdf\\xcc-\\xbd\\xc0?U0^o\\xf9\\xdc\\xb5\\x07\\xa94\\x9c\\x0b\\x03\\xa3Y\\x9d\\x16\\xde\\xe0\\x02\\x0f\\n`\\xc89\\xafR\\xff\\x00\\x8d\\xca\\x8fB\\x88\\x88\\x08\\x88\\x80\\x88\\x88\\x08\\x88\\x80\\x88\\x88\\x08\\x88\\x80\\x88\\x88\\x08\\x88\\x83\\xce\\xfaB\\xfa\\xa1\\x8e\\xff\\x00O\\xe7j\\xd1\\x18\\xea\\x8dk\\x1c\\x08\\x95\\xbc}&;\\'\\x04\\xf8\\x8b\\x86\\xde\\xaf\\xfa\\x8d_?V\\xcfZO\\xba\\xb9\\x1et\\xdf,\\xf8\\xfe]O\\x0b\\xed\\xdf\\x97U\\x8e\\x9a\\x8d0 -U\\xc6U\\xdfS\\xc4\\xc5\\nu]\\x91\\xa2\\\\\\x01\\xb4\\xad\\x8f\\xc4\\xb8\\xf6\\xf8v\\x0e\\xab\\xcb\\x85\\x85\\x96\\xa0\\xa9]\\xd8\\x9cK\\xebT2\\xe7\\x99Yx\\xd8\\x7f\\xb3\\xd7\\x96\\xff\\x00\\x873\\x03A\\xad\\xb9\\xb9\\xeaV\\xd6\\xf4:\\xf6\\xb7\\x1d\\x8f2\\x03E6\\xcc\\xf9\\x95\\xa9\\xe9V\\xca\\xd9[\\x13\\xd1\\x87\\x87\\xe2\\xb1\\x06\\xadL\\xeem\\x1a\\xc4\\x02\\xd1\\xef\\x00\\xbd\\xae]oj\\xc3,;\\xe3\\xd67\\x10\\xc6\\xd3\\xabj \\xbf\\xb8\\xd1p\\xc7\\x8a\\xb7\\xf8\\x8b0\\xa6\\x9c\\x17nz\\xae\\xef\\xc3\\xbc P\\xc3\\x8c\\xc2,\\xbc\\xc7\\x89a\\xdbK\\x8b0\\xe5\\xa4\\xcb\\x811\\xe4\\x15\\xc7\\x97;\\x94\\x8f\\x0c\\xf80\\xc7\\x1bc\\xba~\\xb2\\x0e\\xbd\\x10\\t\\xd7D\\x17K\\xad\\xc6\\x82\\x08#\\xff\\x00\\x14i\\xa1V\\xdfhU\"\\x10Oy\\xbfU\\x1a\\xeeg\\xa6\\xca\\xc0\\xda\\xf3\\xd9A\\xde4\\xdd\\x05M\\x9a,m\\xd5U\\xc6o\\xaf\\x9a\\xb9\\xd2\\xd7T\\xb8\\xf2\\xee\\x82\\x8f\\x16\\x8c\\xa0\\xf4\\\\h\\x87\\xf3\\x03!r\\x9f\\x1b\\x99\\xb2\\xc1P\\x01\\xee\\xc8\\xf3T@ 8\\x976\"\\xdej\\xe0\\x00\\xdc\\xedk\\xb2\\xfd\\x93\\x0b\\x06`\\x06g^;\\xa9k\\xae\\x1c\\x04\\x0e\\xf7A\\x9d\\xa4\\xba\\xf9]\\x03\\xf9\\xae\\x15\\x88\\x13\\x99\\xc0\\xb4\\xc5\\xc87=\\x96\\x0c\\xc4<f\\x05\\xdf\\xcc6\\x1d\\x15\\x9a\\xe6\\xba\\xedp\\x02t#B\\x833r\\x8ft\\x91\\xd0\\x9d\\xd6\\xe0\\xe0\\x03<)\\x83$\\x01z\\x96\\x02=\\xf7-8A\\x89\\xcb\\xa7u\\xb8\\xbd\\x1e\\x90xK\\x04A$MM~\\xfb\\x95\\x1e\\x89\\x11\\x10\\x11\\x11\\x01\\x11\\x10\\x11\\x11\\x01\\x11\\x10\\x11\\x11\\x01\\x11\\x10\\x11\\x11\\x07\\x96\\xf4\\x9e\\'\\x82<Dkz_\\xd4j\\xf9\\xf7\\xc4+\\n\\x18w\\\\\\x0b/\\xa0\\xbd\\'\\x18\\xe0\\x8f\\x11$\\xc7\\xf8\\x7f\\xd4j\\xf9\\xb7\\xc4\\x83\\xb1U\\xdbF\\x90\\x92J\\xe6\\xf9x\\xef\\x96|:^%\\xd7\\x1d\\xf9x\\xfe.\\xf0\\xda\\xd8\\xce\\x19\\xc5c\\xc1s\\xbdMV\\xdb\\xf9w\\xfdHZ\\xea\\x98_IQ\\xf0\\xfa\\x1f\\xc2\\x9d\\x81\\xaa\\xd0\\xea5\\x18X\\xf1\\xd6uZg\\x89\\xb8\\'\\xc4\\xbc\\x1f\\x12\\xf3B\\x8b\\xf189\\x96U\\xa6&\\x07q\\xb1^\\xf8N\\xb8\\xe9\\xe79{ev\\xf3\\xd8J/\\xc4\\xe2i\\xd2`\\'1\\x85\\xf4\\xb7\\xa3\\x1f\\x05\\x1404\\\\\\xf6@\\x01i\\x1e\\x04\\xf0\\xc7?\\xc5\\x98\\xea\\xf4\\xdc\\xcc\\xb7\\xe6\\x10\\xbe\\x8c\\xf0\\x1c{0\\xf8vS`\\x16\\x10\\xbcs\\xcav\\xd3o\\tz\\xee=.(\\x06\\xd29F\\x81x\\\\} \\xef\\x1e\\xa5X\\x9b\\xb5\\xae\\x01z\\xbcV0\\xd4\\xa4@^C\\xc5\\xf1\\r\\xa3U\\xb5\\x9c=\\x93u\\x87\\xf7&<\\x92\\xd6\\x19\\xe1r\\xc2\\xc8\\xe7\\xb4\\xa9\\xd3R\\xb0\\xd3x{\\x1a\\xe6\\x99\\x04HY&\\xcb\\xa4\\xe5U\\x89\\x91\\xddTE\\xc1\\xfdRo}\\x10\\xdf\\xc9\\x113\\x1b\\xfcP_\\xff\\x00\\x15A\\xdcY^dj\\x82\\xa4\\x19\\xd0\\xdb\\xba\\xa91\\xa9\\xb7Ec\\x1a\\xe5\\x98\\xea\\x80\\xdb\\xafuF2d\\x13\\x13\\xd8.3\\xfc\\xc1p\\xdbB\\xb9Df\\xdcy\\x05\\xc6\\xacy\\xb9\\xa6G\\xb3yA\\x88\\x80\\x0c\\xba\\xe6,B\\xa9\\x01\\xc4M\\x9d\\xb0\\xcb\\xfb+f\\x00\\x93\\xefk\\x04j\\x9a\\xf2\\x98\\x13\\xb7D\\x00\\xe7]\\xa4\\xe7\\x8dZ-\\x0b(~q\\xca\\x03H\\xd6W\\x1d\\xd0\\x08\\x00\\x0e\\xd2\\xa7\\x98\\xfbD\\xe5A\\x99\\x8e\\x15\\x04\\xb1\\xfc\\x83` \\x95\\xb9\\xbd\\x1eG\\xd1\\x1c\\x0c\\x08\\x13Sy\\xf7\\xdc\\xb4\\xab\\x9c\\x1cd\\x1c\\xae6\\x93\\xa8[\\xa3\\xd1\\xc9\\x9e\\x0f\\xc0\\x92I\\xbdK\\x9f\\xf3\\x1c\\x83\\xd2\\xa2\"\\xa0\\x88\\x88\\x08\\x88\\x80\\x88\\x88\\x08\\x88\\x80\\x88\\x88\\x08\\x88\\x80\\x88\\x88<g\\xa6\\x1a\\x8f\\xa5\\xe8\\xeb\\xc5\\x9fI\\xa5\\xef\\x1e\\xaa\\x00\\xff\\x005\\x8b\\xe6\\xce\\x1d\\xc6U\\xa9\\x8d{\\xb1T\\x8b6i+\\xe9\\x9fJ\\xd7\\xe0?\\x13\\xff\\x00K\\xfa\\x8d_1\\xe2\\xea\\x1ax\\x88a\\x02\\xebC\\xc8\\xba\\xe4\\x97\\xf0\\xde\\xf1\\xf1\\xed\\xc5g\\xe5\\xec\\x18\\xf9\\x0b1\\xac\\xd6\\xb0\\xb9\\xe6\\x00\\xddu8\\x1cG\\xac\\xa2\\xd32\\xa8\\xda\\x87\\x1d\\x8b\\x0c\\x06(S?\\xfe\\x8a\\xb9rLf\\xde\\\\|W<\\xba\\xb9M\\xf0\\x7f\\xe2^\"1o{\\x9bH7+Z-\\xf1^\\xa7\\x03\\x81\\xa3\\x86\\x03 3\\xdc\\xac\\x1e\\x1c\\x1a)\\x80\\x179\\xef\\xca\\xd9Z\\xfd\\xb7\\xfa\\xab\\xa3\\'Y\\xd62b\\xea\\xb5\\x94\\x89\\x98!x\\xaf\\x1e\\xf1\\x06Tc\\xda\\x05\\xf4+\\xb5\\xf1<c\\x83\\x1c\\xd7|\\x17\\x88\\xf1J\\xa7\\x9d\\xc4\\xaf<\\xb2\\xedY\\xc9\\xa8\\xf6\\x1c-\\x88\\xfe\\xd3\\xe1\\x14\\x8c\\x92XK\\x0f\\xc1w0\\xbc\\x97\\xa3\\xf7\\xcf\\x87\\xe2\\x00\\xb8\\xf5\\xa4\\x8f\\xc8/Vo\\xa4\\xae\\xaf\\x1d\\xde1\\xc6\\xe5\\x9a\\xce\\xaa\\xe2[\\xe4\\xac\\x1d!I\\x00\\xb7E\\x80\\xcb\\r\\xb4Y\\xb0rA\\xb4\\xec\\xa2\\xf1b\\xb15\\xd7\\xb9\\n\\xf3\\'\\xaam\\x136\\x8b|UM\\xad\\x17\\xec\\xac\\xed:*\\xc8\\xd1\\xda\\xa0\\xa3\\x8e\\xf0\\xb1=\\xc4\\xea\\x1a|\\xd5\\xea\\x18\\xd6V\\x07\\x1b\\xc4A\\xd6\\xe5\\x04\\x1c\\xa4\\xc1\\x12:( \\x00f\\xc3\\xa1\\nu\\x16!@\\x8d\\x8c\\x85D\\x1fb\\xce0v\"\\xca\\x85\\xafm\\xc4|U\\xc8\\xbe\\xd3\\xb0Us@\\x89\\xb4\\xf5A\\x06\\xe2\\xda\\xf7\\x12\\xb7_\\xa3\\x7f\\xa9\\xb8\\x0bE\\xea\\x7fQ\\xcbH\\x17\\x06\\xde\\xe26\\xd1n\\xff\\x00F\\xc4\\x9e\\r\\xc0\\x13{\\xd4\\xfe\\xa3\\x90zdDT\\x11\\x11\\x01\\x11\\x10\\x11\\x11\\x07\\xff\\xd9'}"
            ]
          },
          "metadata": {
            "tags": []
          },
          "execution_count": 286
        }
      ]
    },
    {
      "cell_type": "code",
      "metadata": {
        "id": "Sa98bXu43sft",
        "colab_type": "code",
        "colab": {}
      },
      "source": [
        "temp = plt.imread('notouch49.jpg')\n",
        "#temp=temp/255.0"
      ],
      "execution_count": 287,
      "outputs": []
    },
    {
      "cell_type": "code",
      "metadata": {
        "id": "bhTrD49A5CXc",
        "colab_type": "code",
        "colab": {}
      },
      "source": [
        "temp= np.array(temp)\n",
        "temp = np.reshape(temp,(1,240,320,3))\n",
        "temp.shape\n",
        "temp = temp/255.0"
      ],
      "execution_count": 288,
      "outputs": []
    },
    {
      "cell_type": "markdown",
      "metadata": {
        "id": "w53tAP9nFrzV",
        "colab_type": "text"
      },
      "source": [
        "LABELS:\n",
        "\n",
        "\n",
        "---\n",
        "\n",
        "\n",
        "After using argmax()\n",
        "\n",
        "\n",
        "\n",
        "\n",
        "\n",
        "Touch : 1\n",
        "\n",
        "No Touch : 0\n"
      ]
    },
    {
      "cell_type": "code",
      "metadata": {
        "id": "ltSNCh3G44zu",
        "colab_type": "code",
        "colab": {
          "base_uri": "https://localhost:8080/",
          "height": 34
        },
        "outputId": "48c448c2-69f0-412b-e64e-5688febfaa0a"
      },
      "source": [
        "p = model.predict(temp)\n",
        "print(p)"
      ],
      "execution_count": 289,
      "outputs": [
        {
          "output_type": "stream",
          "text": [
            "[[-82.18183]]\n"
          ],
          "name": "stdout"
        }
      ]
    },
    {
      "cell_type": "code",
      "metadata": {
        "id": "uSsiA0jNFfj-",
        "colab_type": "code",
        "colab": {
          "base_uri": "https://localhost:8080/",
          "height": 34
        },
        "outputId": "ea93c578-5f47-4a05-c0c5-c4990ed5c982"
      },
      "source": [
        "p.argmax(axis=0)"
      ],
      "execution_count": 281,
      "outputs": [
        {
          "output_type": "execute_result",
          "data": {
            "text/plain": [
              "array([0])"
            ]
          },
          "metadata": {
            "tags": []
          },
          "execution_count": 281
        }
      ]
    },
    {
      "cell_type": "code",
      "metadata": {
        "id": "Q-ldUmkQ-Zhy",
        "colab_type": "code",
        "colab": {
          "base_uri": "https://localhost:8080/",
          "height": 34
        },
        "outputId": "67a3a575-fd5e-46b7-e4c5-eecfbd0a9369"
      },
      "source": [
        "temp.flatten()\n",
        "temp.shape"
      ],
      "execution_count": 149,
      "outputs": [
        {
          "output_type": "execute_result",
          "data": {
            "text/plain": [
              "(240, 320, 3)"
            ]
          },
          "metadata": {
            "tags": []
          },
          "execution_count": 149
        }
      ]
    },
    {
      "cell_type": "code",
      "metadata": {
        "id": "nLA-4Mud59Z-",
        "colab_type": "code",
        "colab": {
          "base_uri": "https://localhost:8080/",
          "height": 136
        },
        "outputId": "198ec63a-54e4-4018-b507-408a535de49a"
      },
      "source": [
        "classes = train_data_gen.classes\n",
        "print(classes)\n",
        "\n",
        "class2 = train_data_gen.class_mode\n",
        "print(class2)\n",
        "\n",
        "class3 = train_data_gen.data_format\n",
        "print(class3)"
      ],
      "execution_count": 247,
      "outputs": [
        {
          "output_type": "stream",
          "text": [
            "[0 0 0 0 0 0 0 0 0 0 0 0 0 0 0 0 0 0 0 0 0 0 0 0 0 0 0 0 0 0 0 0 0 0 0 0 0\n",
            " 0 0 0 0 0 0 0 0 0 0 0 0 0 0 0 0 0 0 0 0 0 0 0 0 0 0 0 0 0 0 0 0 0 0 0 0 0\n",
            " 0 0 0 0 0 0 0 0 0 0 0 0 0 0 0 0 0 0 0 0 0 0 0 0 0 0 1 1 1 1 1 1 1 1 1 1 1\n",
            " 1 1 1 1 1 1 1 1 1 1 1 1 1 1 1 1 1 1 1 1 1 1 1 1 1 1 1 1 1 1 1 1 1 1 1 1 1\n",
            " 1 1]\n",
            "binary\n",
            "channels_last\n"
          ],
          "name": "stdout"
        }
      ]
    },
    {
      "cell_type": "code",
      "metadata": {
        "id": "8SPwaH0Xbbi_",
        "colab_type": "code",
        "colab": {
          "base_uri": "https://localhost:8080/",
          "height": 34
        },
        "outputId": "c240aa70-45a8-44ea-990b-11383bff5b7f"
      },
      "source": [
        "classes[100]"
      ],
      "execution_count": 261,
      "outputs": [
        {
          "output_type": "execute_result",
          "data": {
            "text/plain": [
              "1"
            ]
          },
          "metadata": {
            "tags": []
          },
          "execution_count": 261
        }
      ]
    },
    {
      "cell_type": "code",
      "metadata": {
        "id": "zS1nGvwWbFJq",
        "colab_type": "code",
        "colab": {
          "base_uri": "https://localhost:8080/",
          "height": 1000
        },
        "outputId": "13cf0ad6-95fb-41b1-ff89-2b48b9883cc0"
      },
      "source": [
        "train_data_gen[0]"
      ],
      "execution_count": 252,
      "outputs": [
        {
          "output_type": "execute_result",
          "data": {
            "text/plain": [
              "(array([[[[1., 1., 1.],\n",
              "          [1., 1., 1.],\n",
              "          [1., 1., 1.],\n",
              "          ...,\n",
              "          [1., 1., 1.],\n",
              "          [1., 1., 1.],\n",
              "          [1., 1., 1.]],\n",
              " \n",
              "         [[1., 1., 1.],\n",
              "          [1., 1., 1.],\n",
              "          [1., 1., 1.],\n",
              "          ...,\n",
              "          [1., 1., 1.],\n",
              "          [1., 1., 1.],\n",
              "          [1., 1., 1.]],\n",
              " \n",
              "         [[1., 1., 1.],\n",
              "          [1., 1., 1.],\n",
              "          [1., 1., 1.],\n",
              "          ...,\n",
              "          [1., 1., 1.],\n",
              "          [1., 1., 1.],\n",
              "          [1., 1., 1.]],\n",
              " \n",
              "         ...,\n",
              " \n",
              "         [[1., 1., 1.],\n",
              "          [1., 1., 1.],\n",
              "          [1., 1., 1.],\n",
              "          ...,\n",
              "          [1., 1., 1.],\n",
              "          [1., 1., 1.],\n",
              "          [1., 1., 1.]],\n",
              " \n",
              "         [[1., 1., 1.],\n",
              "          [1., 1., 1.],\n",
              "          [1., 1., 1.],\n",
              "          ...,\n",
              "          [1., 1., 1.],\n",
              "          [1., 1., 1.],\n",
              "          [1., 1., 1.]],\n",
              " \n",
              "         [[1., 1., 1.],\n",
              "          [1., 1., 1.],\n",
              "          [1., 1., 1.],\n",
              "          ...,\n",
              "          [1., 1., 1.],\n",
              "          [1., 1., 1.],\n",
              "          [1., 1., 1.]]],\n",
              " \n",
              " \n",
              "        [[[1., 1., 1.],\n",
              "          [1., 1., 1.],\n",
              "          [1., 1., 1.],\n",
              "          ...,\n",
              "          [1., 1., 1.],\n",
              "          [1., 1., 1.],\n",
              "          [1., 1., 1.]],\n",
              " \n",
              "         [[1., 1., 1.],\n",
              "          [1., 1., 1.],\n",
              "          [1., 1., 1.],\n",
              "          ...,\n",
              "          [1., 1., 1.],\n",
              "          [1., 1., 1.],\n",
              "          [1., 1., 1.]],\n",
              " \n",
              "         [[1., 1., 1.],\n",
              "          [1., 1., 1.],\n",
              "          [1., 1., 1.],\n",
              "          ...,\n",
              "          [1., 1., 1.],\n",
              "          [1., 1., 1.],\n",
              "          [1., 1., 1.]],\n",
              " \n",
              "         ...,\n",
              " \n",
              "         [[1., 1., 1.],\n",
              "          [1., 1., 1.],\n",
              "          [1., 1., 1.],\n",
              "          ...,\n",
              "          [1., 1., 1.],\n",
              "          [1., 1., 1.],\n",
              "          [1., 1., 1.]],\n",
              " \n",
              "         [[1., 1., 1.],\n",
              "          [1., 1., 1.],\n",
              "          [1., 1., 1.],\n",
              "          ...,\n",
              "          [1., 1., 1.],\n",
              "          [1., 1., 1.],\n",
              "          [1., 1., 1.]],\n",
              " \n",
              "         [[1., 1., 1.],\n",
              "          [1., 1., 1.],\n",
              "          [1., 1., 1.],\n",
              "          ...,\n",
              "          [1., 1., 1.],\n",
              "          [1., 1., 1.],\n",
              "          [1., 1., 1.]]],\n",
              " \n",
              " \n",
              "        [[[1., 1., 1.],\n",
              "          [1., 1., 1.],\n",
              "          [1., 1., 1.],\n",
              "          ...,\n",
              "          [1., 1., 1.],\n",
              "          [1., 1., 1.],\n",
              "          [1., 1., 1.]],\n",
              " \n",
              "         [[1., 1., 1.],\n",
              "          [1., 1., 1.],\n",
              "          [1., 1., 1.],\n",
              "          ...,\n",
              "          [1., 1., 1.],\n",
              "          [1., 1., 1.],\n",
              "          [1., 1., 1.]],\n",
              " \n",
              "         [[1., 1., 1.],\n",
              "          [1., 1., 1.],\n",
              "          [1., 1., 1.],\n",
              "          ...,\n",
              "          [1., 1., 1.],\n",
              "          [1., 1., 1.],\n",
              "          [1., 1., 1.]],\n",
              " \n",
              "         ...,\n",
              " \n",
              "         [[1., 1., 1.],\n",
              "          [1., 1., 1.],\n",
              "          [1., 1., 1.],\n",
              "          ...,\n",
              "          [1., 1., 1.],\n",
              "          [1., 1., 1.],\n",
              "          [1., 1., 1.]],\n",
              " \n",
              "         [[1., 1., 1.],\n",
              "          [1., 1., 1.],\n",
              "          [1., 1., 1.],\n",
              "          ...,\n",
              "          [1., 1., 1.],\n",
              "          [1., 1., 1.],\n",
              "          [1., 1., 1.]],\n",
              " \n",
              "         [[1., 1., 1.],\n",
              "          [1., 1., 1.],\n",
              "          [1., 1., 1.],\n",
              "          ...,\n",
              "          [1., 1., 1.],\n",
              "          [1., 1., 1.],\n",
              "          [1., 1., 1.]]],\n",
              " \n",
              " \n",
              "        ...,\n",
              " \n",
              " \n",
              "        [[[1., 1., 1.],\n",
              "          [1., 1., 1.],\n",
              "          [1., 1., 1.],\n",
              "          ...,\n",
              "          [1., 1., 1.],\n",
              "          [1., 1., 1.],\n",
              "          [1., 1., 1.]],\n",
              " \n",
              "         [[1., 1., 1.],\n",
              "          [1., 1., 1.],\n",
              "          [1., 1., 1.],\n",
              "          ...,\n",
              "          [1., 1., 1.],\n",
              "          [1., 1., 1.],\n",
              "          [1., 1., 1.]],\n",
              " \n",
              "         [[1., 1., 1.],\n",
              "          [1., 1., 1.],\n",
              "          [1., 1., 1.],\n",
              "          ...,\n",
              "          [1., 1., 1.],\n",
              "          [1., 1., 1.],\n",
              "          [1., 1., 1.]],\n",
              " \n",
              "         ...,\n",
              " \n",
              "         [[1., 1., 1.],\n",
              "          [1., 1., 1.],\n",
              "          [1., 1., 1.],\n",
              "          ...,\n",
              "          [1., 1., 1.],\n",
              "          [1., 1., 1.],\n",
              "          [1., 1., 1.]],\n",
              " \n",
              "         [[1., 1., 1.],\n",
              "          [1., 1., 1.],\n",
              "          [1., 1., 1.],\n",
              "          ...,\n",
              "          [1., 1., 1.],\n",
              "          [1., 1., 1.],\n",
              "          [1., 1., 1.]],\n",
              " \n",
              "         [[1., 1., 1.],\n",
              "          [1., 1., 1.],\n",
              "          [1., 1., 1.],\n",
              "          ...,\n",
              "          [1., 1., 1.],\n",
              "          [1., 1., 1.],\n",
              "          [1., 1., 1.]]],\n",
              " \n",
              " \n",
              "        [[[1., 1., 1.],\n",
              "          [1., 1., 1.],\n",
              "          [1., 1., 1.],\n",
              "          ...,\n",
              "          [1., 1., 1.],\n",
              "          [1., 1., 1.],\n",
              "          [1., 1., 1.]],\n",
              " \n",
              "         [[1., 1., 1.],\n",
              "          [1., 1., 1.],\n",
              "          [1., 1., 1.],\n",
              "          ...,\n",
              "          [1., 1., 1.],\n",
              "          [1., 1., 1.],\n",
              "          [1., 1., 1.]],\n",
              " \n",
              "         [[1., 1., 1.],\n",
              "          [1., 1., 1.],\n",
              "          [1., 1., 1.],\n",
              "          ...,\n",
              "          [1., 1., 1.],\n",
              "          [1., 1., 1.],\n",
              "          [1., 1., 1.]],\n",
              " \n",
              "         ...,\n",
              " \n",
              "         [[1., 1., 1.],\n",
              "          [1., 1., 1.],\n",
              "          [1., 1., 1.],\n",
              "          ...,\n",
              "          [1., 1., 1.],\n",
              "          [1., 1., 1.],\n",
              "          [1., 1., 1.]],\n",
              " \n",
              "         [[1., 1., 1.],\n",
              "          [1., 1., 1.],\n",
              "          [1., 1., 1.],\n",
              "          ...,\n",
              "          [1., 1., 1.],\n",
              "          [1., 1., 1.],\n",
              "          [1., 1., 1.]],\n",
              " \n",
              "         [[1., 1., 1.],\n",
              "          [1., 1., 1.],\n",
              "          [1., 1., 1.],\n",
              "          ...,\n",
              "          [1., 1., 1.],\n",
              "          [1., 1., 1.],\n",
              "          [1., 1., 1.]]],\n",
              " \n",
              " \n",
              "        [[[1., 1., 1.],\n",
              "          [1., 1., 1.],\n",
              "          [1., 1., 1.],\n",
              "          ...,\n",
              "          [1., 1., 1.],\n",
              "          [1., 1., 1.],\n",
              "          [1., 1., 1.]],\n",
              " \n",
              "         [[1., 1., 1.],\n",
              "          [1., 1., 1.],\n",
              "          [1., 1., 1.],\n",
              "          ...,\n",
              "          [1., 1., 1.],\n",
              "          [1., 1., 1.],\n",
              "          [1., 1., 1.]],\n",
              " \n",
              "         [[1., 1., 1.],\n",
              "          [1., 1., 1.],\n",
              "          [1., 1., 1.],\n",
              "          ...,\n",
              "          [1., 1., 1.],\n",
              "          [1., 1., 1.],\n",
              "          [1., 1., 1.]],\n",
              " \n",
              "         ...,\n",
              " \n",
              "         [[1., 1., 1.],\n",
              "          [1., 1., 1.],\n",
              "          [1., 1., 1.],\n",
              "          ...,\n",
              "          [1., 1., 1.],\n",
              "          [1., 1., 1.],\n",
              "          [1., 1., 1.]],\n",
              " \n",
              "         [[1., 1., 1.],\n",
              "          [1., 1., 1.],\n",
              "          [1., 1., 1.],\n",
              "          ...,\n",
              "          [1., 1., 1.],\n",
              "          [1., 1., 1.],\n",
              "          [1., 1., 1.]],\n",
              " \n",
              "         [[1., 1., 1.],\n",
              "          [1., 1., 1.],\n",
              "          [1., 1., 1.],\n",
              "          ...,\n",
              "          [1., 1., 1.],\n",
              "          [1., 1., 1.],\n",
              "          [1., 1., 1.]]]], dtype=float32),\n",
              " array([0., 0., 0., 1., 0., 0., 0., 1., 1., 0.], dtype=float32))"
            ]
          },
          "metadata": {
            "tags": []
          },
          "execution_count": 252
        }
      ]
    }
  ]
}